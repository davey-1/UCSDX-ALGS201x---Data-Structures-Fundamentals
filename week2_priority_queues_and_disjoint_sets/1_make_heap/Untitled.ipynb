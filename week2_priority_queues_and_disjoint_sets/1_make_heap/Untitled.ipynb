{
 "cells": [
  {
   "cell_type": "code",
   "execution_count": 30,
   "metadata": {},
   "outputs": [
    {
     "name": "stdin",
     "output_type": "stream",
     "text": [
      " 10\n",
      " 8 2 3 6 5 4 9 10 22 1\n"
     ]
    }
   ],
   "source": [
    "    import sys \n",
    "    \n",
    "    n = int(input())\n",
    "    data = list(map(int, input().split()))\n",
    "    assert len(data) == n\n",
    "    "
   ]
  },
  {
   "cell_type": "code",
   "execution_count": 23,
   "metadata": {},
   "outputs": [],
   "source": [
    "class MinHeap:\n",
    " \n",
    "    def __init__(self, maxsize):\n",
    "        self.maxsize = maxsize\n",
    "        self.size = 0\n",
    "        self.Heap = [0]*(self.maxsize + 1)\n",
    "        self.Heap[0] = -1 * sys.maxsize\n",
    "        self.FRONT = 1\n",
    "        self.numswaps = 0\n",
    "        self.swap_list = []\n",
    " \n",
    "    # Function to return the position of\n",
    "    # parent for the node currently\n",
    "    # at pos\n",
    "    def parent(self, pos):\n",
    "        return pos//2\n",
    " \n",
    "    # Function to return the position of\n",
    "    # the left child for the node currently\n",
    "    # at pos\n",
    "    def leftChild(self, pos):\n",
    "        return 2 * pos\n",
    " \n",
    "    # Function to return the position of\n",
    "    # the right child for the node currently\n",
    "    # at pos\n",
    "    def rightChild(self, pos):\n",
    "        return (2 * pos) + 1\n",
    " \n",
    "    # Function that returns true if the passed\n",
    "    # node is a leaf node\n",
    "    def isLeaf(self, pos):\n",
    "        if pos >= (self.size//2) and pos <= self.size:\n",
    "            return True\n",
    "        return False\n",
    " \n",
    "    # Function to swap two nodes of the heap\n",
    "    def swap(self, fpos, spos):\n",
    "        self.swap_list.append([self.Heap[spos], self.Heap[fpos]])        \n",
    "        self.Heap[fpos], self.Heap[spos] = self.Heap[spos], self.Heap[fpos]\n",
    "        self.numswaps += 1\n",
    "        #print(\"numswaps =\",self.numswaps)\n",
    "\n",
    " \n",
    "    # Function to heapify the node at pos\n",
    "    def minHeapify(self, pos):\n",
    "        # If the node is a non-leaf node and greater\n",
    "        # than any of its child\n",
    "        #print(\"minHeapify called on pos\", pos)\n",
    "        if not self.isLeaf(pos):\n",
    "            if (self.Heap[pos] > self.Heap[self.leftChild(pos)] or\n",
    "               self.Heap[pos] > self.Heap[self.rightChild(pos)]):\n",
    "                \n",
    "                # Swap with the left child and heapify\n",
    "                # the left child\n",
    "                if self.Heap[self.leftChild(pos)] < self.Heap[self.rightChild(pos)]:\n",
    "                    self.swap(pos, self.leftChild(pos))\n",
    "                    self.minHeapify(self.leftChild(pos))\n",
    " \n",
    "                # Swap with the right child and heapify\n",
    "                # the right child\n",
    "                else:\n",
    "                    self.swap(pos, self.rightChild(pos))\n",
    "                    self.minHeapify(self.rightChild(pos))\n",
    " \n",
    "    # Function to insert a node into the heap\n",
    "    def insert(self, element):\n",
    "        if self.size >= self.maxsize :\n",
    "            return\n",
    "        self.size+= 1\n",
    "        self.Heap[self.size] = element\n",
    " \n",
    "        current = self.size\n",
    " \n",
    "        while self.Heap[current] < self.Heap[self.parent(current)]:\n",
    "            self.swap(current, self.parent(current))\n",
    "            current = self.parent(current)\n",
    " \n",
    "    # Function to print the contents of the heap\n",
    "    def Print(self):\n",
    "        for i in range(1, (self.size//2)+1):\n",
    "            print(\" PARENT : \"+ str(self.Heap[i])+\" LEFT CHILD : \"+\n",
    "                                str(self.Heap[2 * i])+\" RIGHT CHILD : \"+\n",
    "                                str(self.Heap[2 * i + 1]))\n",
    " \n",
    "    # Function to build the min heap using\n",
    "    # the minHeapify function\n",
    "    def minHeap(self):\n",
    "        #print(\"minHeap called\")\n",
    "        for pos in range(self.size//2, -1, -1):\n",
    "            self.minHeapify(pos)\n",
    " \n",
    "    # Function to remove and return the minimum\n",
    "    # element from the heap\n",
    "    def remove(self):\n",
    " \n",
    "        popped = self.Heap[self.FRONT]\n",
    "        self.Heap[self.FRONT] = self.Heap[self.size]\n",
    "        self.size-= 1\n",
    "        self.minHeapify(self.FRONT)\n",
    "        return popped    "
   ]
  },
  {
   "cell_type": "code",
   "execution_count": 28,
   "metadata": {},
   "outputs": [],
   "source": [
    "def build_heap(data):\n",
    "    \"\"\"Build a heap from ``data`` inplace.\n",
    "\n",
    "    Returns a sequence of swaps performed by the algorithm.\n",
    "    \n",
    "    This is a binary min heap\n",
    "    \"\"\"    \n",
    "    heap = MinHeap(len(data))\n",
    "    \n",
    "    heap.Heap = data\n",
    "    heap.size = len(data)\n",
    "    \n",
    "    print(\"heap1 =\",heap.Heap)\n",
    "\n",
    "    heap.minHeap()\n",
    "    \n",
    "    print(\"heap2 =\",heap.Heap)\n",
    "    \n",
    "    return heap.swap_list"
   ]
  },
  {
   "cell_type": "code",
   "execution_count": 31,
   "metadata": {},
   "outputs": [
    {
     "name": "stdout",
     "output_type": "stream",
     "text": [
      "heap1 = [8, 2, 3, 6, 5, 4, 9, 10, 22, 1]\n",
      "heap2 = [1, 2, 3, 6, 5, 4, 9, 10, 22, 8]\n",
      "[[1, 5], [1, 3], [1, 2], [1, 8], [2, 8], [3, 8], [5, 8]]\n"
     ]
    }
   ],
   "source": [
    "    swaps = build_heap(data)\n",
    "\n",
    "    print(swaps)"
   ]
  },
  {
   "cell_type": "code",
   "execution_count": null,
   "metadata": {},
   "outputs": [],
   "source": []
  }
 ],
 "metadata": {
  "kernelspec": {
   "display_name": "Python 3",
   "language": "python",
   "name": "python3"
  },
  "language_info": {
   "codemirror_mode": {
    "name": "ipython",
    "version": 3
   },
   "file_extension": ".py",
   "mimetype": "text/x-python",
   "name": "python",
   "nbconvert_exporter": "python",
   "pygments_lexer": "ipython3",
   "version": "3.7.4"
  }
 },
 "nbformat": 4,
 "nbformat_minor": 4
}
