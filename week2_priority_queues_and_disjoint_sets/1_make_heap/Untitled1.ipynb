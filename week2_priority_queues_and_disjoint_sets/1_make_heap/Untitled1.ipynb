{
 "cells": [
  {
   "cell_type": "code",
   "execution_count": 1,
   "metadata": {},
   "outputs": [],
   "source": [
    "\n",
    "from collections import namedtuple\n",
    "\n",
    "AssignedJob = namedtuple(\"AssignedJob\", [\"worker\", \"started_at\"])\n"
   ]
  },
  {
   "cell_type": "code",
   "execution_count": 7,
   "metadata": {},
   "outputs": [],
   "source": [
    "def assign_jobs(n_workers, jobs):\n",
    "    # TODO: replace this code with a faster algorithm.\n",
    "    result = []\n",
    "    next_free_time = [0] * n_workers\n",
    "    print(next_free_time)\n",
    "    for job in jobs:\n",
    "        next_worker = min(range(n_workers), key=lambda w: next_free_time[w])\n",
    "        result.append(AssignedJob(next_worker, next_free_time[next_worker]))\n",
    "        next_free_time[next_worker] += job\n",
    "\n",
    "    return result\n"
   ]
  },
  {
   "cell_type": "code",
   "execution_count": 8,
   "metadata": {},
   "outputs": [],
   "source": [
    "def main():\n",
    "    n_workers, n_jobs = map(int, input().split())\n",
    "    jobs = list(map(int, input().split()))\n",
    "    assert len(jobs) == n_jobs\n",
    "\n",
    "    assigned_jobs = assign_jobs(n_workers, jobs)\n",
    "\n",
    "    for job in assigned_jobs:\n",
    "        print(job.worker, job.started_at)\n"
   ]
  },
  {
   "cell_type": "code",
   "execution_count": null,
   "metadata": {},
   "outputs": [],
   "source": [
    "if __name__ == \"__main__\":\n",
    "    main()\n"
   ]
  },
  {
   "cell_type": "code",
   "execution_count": null,
   "metadata": {},
   "outputs": [],
   "source": []
  }
 ],
 "metadata": {
  "kernelspec": {
   "display_name": "Python 3",
   "language": "python",
   "name": "python3"
  },
  "language_info": {
   "codemirror_mode": {
    "name": "ipython",
    "version": 3
   },
   "file_extension": ".py",
   "mimetype": "text/x-python",
   "name": "python",
   "nbconvert_exporter": "python",
   "pygments_lexer": "ipython3",
   "version": "3.7.4"
  }
 },
 "nbformat": 4,
 "nbformat_minor": 4
}
