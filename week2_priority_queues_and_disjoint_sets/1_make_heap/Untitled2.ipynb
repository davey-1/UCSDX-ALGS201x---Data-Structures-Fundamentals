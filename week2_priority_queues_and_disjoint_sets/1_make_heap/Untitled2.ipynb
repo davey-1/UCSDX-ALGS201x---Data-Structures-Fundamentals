{
 "cells": [
  {
   "cell_type": "code",
   "execution_count": 36,
   "metadata": {},
   "outputs": [],
   "source": []
  },
  {
   "cell_type": "code",
   "execution_count": 2,
   "metadata": {},
   "outputs": [],
   "source": [
    "def main():\n",
    "    n_tables, n_queries = map(int, input().split())\n",
    "    counts = list(map(int, input().split()))\n",
    "    assert len(counts) == n_tables\n",
    "    db = Database(counts)\n",
    "    for i in range(n_queries):\n",
    "        dst, src = map(int, input().split())\n",
    "        db.merge(dst - 1, src - 1)\n",
    "        #print(db.max_row_count)\n"
   ]
  },
  {
   "cell_type": "code",
   "execution_count": null,
   "metadata": {},
   "outputs": [],
   "source": [
    "if __name__ == \"__main__\":\n",
    "    main()\n"
   ]
  },
  {
   "cell_type": "code",
   "execution_count": null,
   "metadata": {},
   "outputs": [],
   "source": []
  }
 ],
 "metadata": {
  "kernelspec": {
   "display_name": "Python 3",
   "language": "python",
   "name": "python3"
  },
  "language_info": {
   "codemirror_mode": {
    "name": "ipython",
    "version": 3
   },
   "file_extension": ".py",
   "mimetype": "text/x-python",
   "name": "python",
   "nbconvert_exporter": "python",
   "pygments_lexer": "ipython3",
   "version": "3.7.4"
  }
 },
 "nbformat": 4,
 "nbformat_minor": 4
}
